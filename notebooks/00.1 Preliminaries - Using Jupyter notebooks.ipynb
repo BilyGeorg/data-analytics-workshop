{
 "cells": [
  {
   "cell_type": "markdown",
   "metadata": {},
   "source": [
    "# Using Jupyter notebooks\n",
    "\n",
    "This notebook provides an overview on some core functionalities of Jupyter.\n",
    "\n",
    "You should read this notebook first if you're not familiar with how to run Python code in notebooks.\n",
    "\n",
    "In this notebook:\n",
    "\n",
    "- ...\n",
    "- ...\n",
    "\n"
   ]
  },
  {
   "cell_type": "code",
   "execution_count": null,
   "metadata": {},
   "outputs": [],
   "source": []
  }
 ],
 "metadata": {
  "kernelspec": {
   "display_name": "Python 3",
   "language": "python",
   "name": "python3"
  },
  "language_info": {
   "codemirror_mode": {
    "name": "ipython",
    "version": 3
   },
   "file_extension": ".py",
   "mimetype": "text/x-python",
   "name": "python",
   "nbconvert_exporter": "python",
   "pygments_lexer": "ipython3",
   "version": "3.7.4"
  }
 },
 "nbformat": 4,
 "nbformat_minor": 2
}
